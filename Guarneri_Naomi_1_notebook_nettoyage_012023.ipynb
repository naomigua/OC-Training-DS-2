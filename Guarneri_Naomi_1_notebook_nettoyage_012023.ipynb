{
 "cells": [
  {
   "cell_type": "markdown",
   "id": "17609724",
   "metadata": {},
   "source": [
    "# <a name=\"C0\">SOMMAIRE</a>\n",
    "\n",
    "\n",
    "####  <a href=\"#C1\">Set up environnement</a>\n",
    "#### <a href=\"#C2\">Sélection des variables qui nous intéressent</a>\n",
    "#### <a href=\"#C3\">Nettoyage</a>\n",
    "- <a href=\"#C31\">On enlève les produits avec pas assez d'info</a>\n",
    "- <a href=\"#C32\">On traite les duplicates</a>\n",
    "- <a href=\"#C33\">On traite les valeurs aberrantes</a>\n",
    "- <a href=\"#C34\">On traite les valeurs manquantes</a>\n",
    " \n",
    " \n",
    " \n",
    "### Ce qu'il faut faire :\n",
    "\n",
    "#### 1) Nettoyage :\n",
    "    - lire definitions des variables (ex nutriscore)\n",
    "    - idée d'application (inspi kaggle ? par catégorie par pays mots clefs pour regrouper ?)\n",
    "    - filtrer jeu données , seule var indispensable à mon application\n",
    "    - traiter valeurs aberrantes // contexte projet \n",
    "    - valeurs manquantes :\n",
    "         - remplacer données manquantes (0 moy mediane)\n",
    "         - estimer avec algo KNN ou\n",
    "         - fonction IterativeImputer (only via corrélation)\n",
    "#### 2) Analyse exploratoire\n",
    "    - analyses univariées ( describe.. graph numérique ou catégorielle)\n",
    "    - bivariées ( graphiques croisant var numérique et une catégorielle OU croisant 2 numériques + matrice de corrélation)\n",
    "    => matplotlib et seaborn, ex illustrer nb articles vendus ds chaque pays, répartition nutriscore ds chacun d'entre eux\n",
    "    - multivariées \n",
    "    => descriptive avec ACP Analyse en Composantes Principales\n",
    "    => explicative avec l'ANOVA\n",
    "#### 3) Présentation de l'idée d'application ( c'est tout )\n",
    "    - un graph présenté = une analyse = vérifier une hypothèse ou déclencher une action sur les données\n",
    "    \n",
    "\n",
    "# <a name=\"C1\">Set up environnement</a>\n",
    "<a href=\"#C0\">SOMMAIRE</a>"
   ]
  },
  {
   "cell_type": "code",
   "execution_count": 1,
   "id": "a4ccd441",
   "metadata": {},
   "outputs": [],
   "source": [
    "#Import des librairies\n",
    "import pandas as pd\n",
    "import numpy as np\n",
    "import matplotlib.pyplot as plt\n",
    "import seaborn as sns\n",
    "from sklearn.preprocessing import StandardScaler , MinMaxScaler\n",
    "from datetime import datetime as dt\n",
    "import datetime\n",
    "from sklearn.experimental import enable_iterative_imputer  # noqa\n",
    "from sklearn.impute import IterativeImputer, KNNImputer\n",
    "from numpy import isnan\n",
    "%matplotlib inline"
   ]
  },
  {
   "cell_type": "code",
   "execution_count": 2,
   "id": "5b558d68",
   "metadata": {},
   "outputs": [
    {
     "name": "stderr",
     "output_type": "stream",
     "text": [
      "C:\\Users\\Me\\AppData\\Local\\Temp\\ipykernel_15628\\2303218264.py:2: FutureWarning: The error_bad_lines argument has been deprecated and will be removed in a future version. Use on_bad_lines in the future.\n",
      "\n",
      "\n",
      "  OFFproducts = pd.read_csv('C:/Users/Me/Documents/1- DATA SCIENCE/fr.openfoodfacts.org.products.csv',sep='\\t',error_bad_lines=False)\n",
      "C:\\Users\\Me\\AppData\\Local\\Temp\\ipykernel_15628\\2303218264.py:2: DtypeWarning: Columns (0,3,5,19,20,24,25,26,27,28,35,36,37,38,39,48) have mixed types. Specify dtype option on import or set low_memory=False.\n",
      "  OFFproducts = pd.read_csv('C:/Users/Me/Documents/1- DATA SCIENCE/fr.openfoodfacts.org.products.csv',sep='\\t',error_bad_lines=False)\n"
     ]
    }
   ],
   "source": [
    "#Import des données\n",
    "OFFproducts = pd.read_csv('C:/Users/Me/Documents/1- DATA SCIENCE/fr.openfoodfacts.org.products.csv',sep='\\t',error_bad_lines=False)"
   ]
  },
  {
   "cell_type": "code",
   "execution_count": 3,
   "id": "75a2cc97",
   "metadata": {},
   "outputs": [],
   "source": [
    "#Réglages d'affichage\n",
    "pd.set_option('display.max_columns', 200)\n",
    "pd.set_option('display.max_rows', 1000)\n",
    "pd.set_option('display.max_colwidth', 2000)\n",
    "\n",
    "# Rappel du thème utilisé\n",
    "sns.set_style('darkgrid')\n",
    "sns.set_palette('Paired')"
   ]
  },
  {
   "cell_type": "markdown",
   "id": "9fd07784",
   "metadata": {},
   "source": [
    "# <a name=\"C2\">Sélection des variables qui nous intéressent</a>\n",
    "<a href=\"#C0\">SOMMAIRE</a>\n",
    "\n",
    "\n",
    "Première idée d'application : suggérer l'équivalent le + ecofriendly ou avec le meilleur nutriscore ou bien vegan ?\n",
    "\n",
    "\n",
    "A affiner selon les données dont nous disposons.\n"
   ]
  },
  {
   "cell_type": "code",
   "execution_count": 4,
   "id": "e02f2396",
   "metadata": {
    "scrolled": false
   },
   "outputs": [
    {
     "data": {
      "text/html": [
       "<div>\n",
       "<style scoped>\n",
       "    .dataframe tbody tr th:only-of-type {\n",
       "        vertical-align: middle;\n",
       "    }\n",
       "\n",
       "    .dataframe tbody tr th {\n",
       "        vertical-align: top;\n",
       "    }\n",
       "\n",
       "    .dataframe thead th {\n",
       "        text-align: right;\n",
       "    }\n",
       "</style>\n",
       "<table border=\"1\" class=\"dataframe\">\n",
       "  <thead>\n",
       "    <tr style=\"text-align: right;\">\n",
       "      <th></th>\n",
       "      <th>code</th>\n",
       "      <th>url</th>\n",
       "      <th>creator</th>\n",
       "      <th>created_t</th>\n",
       "      <th>created_datetime</th>\n",
       "      <th>last_modified_t</th>\n",
       "      <th>last_modified_datetime</th>\n",
       "      <th>product_name</th>\n",
       "      <th>generic_name</th>\n",
       "      <th>quantity</th>\n",
       "      <th>packaging</th>\n",
       "      <th>packaging_tags</th>\n",
       "      <th>brands</th>\n",
       "      <th>brands_tags</th>\n",
       "      <th>categories</th>\n",
       "      <th>categories_tags</th>\n",
       "      <th>categories_fr</th>\n",
       "      <th>origins</th>\n",
       "      <th>origins_tags</th>\n",
       "      <th>manufacturing_places</th>\n",
       "      <th>manufacturing_places_tags</th>\n",
       "      <th>labels</th>\n",
       "      <th>labels_tags</th>\n",
       "      <th>labels_fr</th>\n",
       "      <th>emb_codes</th>\n",
       "      <th>emb_codes_tags</th>\n",
       "      <th>first_packaging_code_geo</th>\n",
       "      <th>cities</th>\n",
       "      <th>cities_tags</th>\n",
       "      <th>purchase_places</th>\n",
       "      <th>stores</th>\n",
       "      <th>countries</th>\n",
       "      <th>countries_tags</th>\n",
       "      <th>countries_fr</th>\n",
       "      <th>ingredients_text</th>\n",
       "      <th>allergens</th>\n",
       "      <th>allergens_fr</th>\n",
       "      <th>traces</th>\n",
       "      <th>traces_tags</th>\n",
       "      <th>traces_fr</th>\n",
       "      <th>serving_size</th>\n",
       "      <th>no_nutriments</th>\n",
       "      <th>additives_n</th>\n",
       "      <th>additives</th>\n",
       "      <th>additives_tags</th>\n",
       "      <th>additives_fr</th>\n",
       "      <th>ingredients_from_palm_oil_n</th>\n",
       "      <th>ingredients_from_palm_oil</th>\n",
       "      <th>ingredients_from_palm_oil_tags</th>\n",
       "      <th>ingredients_that_may_be_from_palm_oil_n</th>\n",
       "      <th>ingredients_that_may_be_from_palm_oil</th>\n",
       "      <th>ingredients_that_may_be_from_palm_oil_tags</th>\n",
       "      <th>nutrition_grade_uk</th>\n",
       "      <th>nutrition_grade_fr</th>\n",
       "      <th>pnns_groups_1</th>\n",
       "      <th>pnns_groups_2</th>\n",
       "      <th>states</th>\n",
       "      <th>states_tags</th>\n",
       "      <th>states_fr</th>\n",
       "      <th>main_category</th>\n",
       "      <th>main_category_fr</th>\n",
       "      <th>image_url</th>\n",
       "      <th>image_small_url</th>\n",
       "      <th>energy_100g</th>\n",
       "      <th>energy-from-fat_100g</th>\n",
       "      <th>fat_100g</th>\n",
       "      <th>saturated-fat_100g</th>\n",
       "      <th>butyric-acid_100g</th>\n",
       "      <th>caproic-acid_100g</th>\n",
       "      <th>caprylic-acid_100g</th>\n",
       "      <th>capric-acid_100g</th>\n",
       "      <th>lauric-acid_100g</th>\n",
       "      <th>myristic-acid_100g</th>\n",
       "      <th>palmitic-acid_100g</th>\n",
       "      <th>stearic-acid_100g</th>\n",
       "      <th>arachidic-acid_100g</th>\n",
       "      <th>behenic-acid_100g</th>\n",
       "      <th>lignoceric-acid_100g</th>\n",
       "      <th>cerotic-acid_100g</th>\n",
       "      <th>montanic-acid_100g</th>\n",
       "      <th>melissic-acid_100g</th>\n",
       "      <th>monounsaturated-fat_100g</th>\n",
       "      <th>polyunsaturated-fat_100g</th>\n",
       "      <th>omega-3-fat_100g</th>\n",
       "      <th>alpha-linolenic-acid_100g</th>\n",
       "      <th>eicosapentaenoic-acid_100g</th>\n",
       "      <th>docosahexaenoic-acid_100g</th>\n",
       "      <th>omega-6-fat_100g</th>\n",
       "      <th>linoleic-acid_100g</th>\n",
       "      <th>arachidonic-acid_100g</th>\n",
       "      <th>gamma-linolenic-acid_100g</th>\n",
       "      <th>dihomo-gamma-linolenic-acid_100g</th>\n",
       "      <th>omega-9-fat_100g</th>\n",
       "      <th>oleic-acid_100g</th>\n",
       "      <th>elaidic-acid_100g</th>\n",
       "      <th>gondoic-acid_100g</th>\n",
       "      <th>mead-acid_100g</th>\n",
       "      <th>erucic-acid_100g</th>\n",
       "      <th>nervonic-acid_100g</th>\n",
       "      <th>trans-fat_100g</th>\n",
       "      <th>cholesterol_100g</th>\n",
       "      <th>carbohydrates_100g</th>\n",
       "      <th>sugars_100g</th>\n",
       "      <th>sucrose_100g</th>\n",
       "      <th>glucose_100g</th>\n",
       "      <th>fructose_100g</th>\n",
       "      <th>lactose_100g</th>\n",
       "      <th>maltose_100g</th>\n",
       "      <th>maltodextrins_100g</th>\n",
       "      <th>starch_100g</th>\n",
       "      <th>polyols_100g</th>\n",
       "      <th>fiber_100g</th>\n",
       "      <th>proteins_100g</th>\n",
       "      <th>casein_100g</th>\n",
       "      <th>serum-proteins_100g</th>\n",
       "      <th>nucleotides_100g</th>\n",
       "      <th>salt_100g</th>\n",
       "      <th>sodium_100g</th>\n",
       "      <th>alcohol_100g</th>\n",
       "      <th>vitamin-a_100g</th>\n",
       "      <th>beta-carotene_100g</th>\n",
       "      <th>vitamin-d_100g</th>\n",
       "      <th>vitamin-e_100g</th>\n",
       "      <th>vitamin-k_100g</th>\n",
       "      <th>vitamin-c_100g</th>\n",
       "      <th>vitamin-b1_100g</th>\n",
       "      <th>vitamin-b2_100g</th>\n",
       "      <th>vitamin-pp_100g</th>\n",
       "      <th>vitamin-b6_100g</th>\n",
       "      <th>vitamin-b9_100g</th>\n",
       "      <th>folates_100g</th>\n",
       "      <th>vitamin-b12_100g</th>\n",
       "      <th>biotin_100g</th>\n",
       "      <th>pantothenic-acid_100g</th>\n",
       "      <th>silica_100g</th>\n",
       "      <th>bicarbonate_100g</th>\n",
       "      <th>potassium_100g</th>\n",
       "      <th>chloride_100g</th>\n",
       "      <th>calcium_100g</th>\n",
       "      <th>phosphorus_100g</th>\n",
       "      <th>iron_100g</th>\n",
       "      <th>magnesium_100g</th>\n",
       "      <th>zinc_100g</th>\n",
       "      <th>copper_100g</th>\n",
       "      <th>manganese_100g</th>\n",
       "      <th>fluoride_100g</th>\n",
       "      <th>selenium_100g</th>\n",
       "      <th>chromium_100g</th>\n",
       "      <th>molybdenum_100g</th>\n",
       "      <th>iodine_100g</th>\n",
       "      <th>caffeine_100g</th>\n",
       "      <th>taurine_100g</th>\n",
       "      <th>ph_100g</th>\n",
       "      <th>fruits-vegetables-nuts_100g</th>\n",
       "      <th>collagen-meat-protein-ratio_100g</th>\n",
       "      <th>cocoa_100g</th>\n",
       "      <th>chlorophyl_100g</th>\n",
       "      <th>carbon-footprint_100g</th>\n",
       "      <th>nutrition-score-fr_100g</th>\n",
       "      <th>nutrition-score-uk_100g</th>\n",
       "      <th>glycemic-index_100g</th>\n",
       "      <th>water-hardness_100g</th>\n",
       "    </tr>\n",
       "  </thead>\n",
       "  <tbody>\n",
       "    <tr>\n",
       "      <th>0</th>\n",
       "      <td>3087</td>\n",
       "      <td>http://world-fr.openfoodfacts.org/produit/0000000003087/farine-de-ble-noir-ferme-t-y-r-nao</td>\n",
       "      <td>openfoodfacts-contributors</td>\n",
       "      <td>1474103866</td>\n",
       "      <td>2016-09-17T09:17:46Z</td>\n",
       "      <td>1474103893</td>\n",
       "      <td>2016-09-17T09:18:13Z</td>\n",
       "      <td>Farine de blé noir</td>\n",
       "      <td>NaN</td>\n",
       "      <td>1kg</td>\n",
       "      <td>NaN</td>\n",
       "      <td>NaN</td>\n",
       "      <td>Ferme t'y R'nao</td>\n",
       "      <td>ferme-t-y-r-nao</td>\n",
       "      <td>NaN</td>\n",
       "      <td>NaN</td>\n",
       "      <td>NaN</td>\n",
       "      <td>NaN</td>\n",
       "      <td>NaN</td>\n",
       "      <td>NaN</td>\n",
       "      <td>NaN</td>\n",
       "      <td>NaN</td>\n",
       "      <td>NaN</td>\n",
       "      <td>NaN</td>\n",
       "      <td>NaN</td>\n",
       "      <td>NaN</td>\n",
       "      <td>NaN</td>\n",
       "      <td>NaN</td>\n",
       "      <td>NaN</td>\n",
       "      <td>NaN</td>\n",
       "      <td>NaN</td>\n",
       "      <td>en:FR</td>\n",
       "      <td>en:france</td>\n",
       "      <td>France</td>\n",
       "      <td>NaN</td>\n",
       "      <td>NaN</td>\n",
       "      <td>NaN</td>\n",
       "      <td>NaN</td>\n",
       "      <td>NaN</td>\n",
       "      <td>NaN</td>\n",
       "      <td>NaN</td>\n",
       "      <td>NaN</td>\n",
       "      <td>NaN</td>\n",
       "      <td>NaN</td>\n",
       "      <td>NaN</td>\n",
       "      <td>NaN</td>\n",
       "      <td>NaN</td>\n",
       "      <td>NaN</td>\n",
       "      <td>NaN</td>\n",
       "      <td>NaN</td>\n",
       "      <td>NaN</td>\n",
       "      <td>NaN</td>\n",
       "      <td>NaN</td>\n",
       "      <td>NaN</td>\n",
       "      <td>NaN</td>\n",
       "      <td>NaN</td>\n",
       "      <td>en:to-be-completed, en:nutrition-facts-to-be-completed, en:ingredients-to-be-completed, en:expiration-date-to-be-completed, en:characteristics-to-be-completed, en:categories-to-be-completed, en:brands-completed, en:packaging-to-be-completed, en:quantity-completed, en:product-name-completed, en:photos-to-be-validated, en:photos-uploaded</td>\n",
       "      <td>en:to-be-completed,en:nutrition-facts-to-be-completed,en:ingredients-to-be-completed,en:expiration-date-to-be-completed,en:characteristics-to-be-completed,en:categories-to-be-completed,en:brands-completed,en:packaging-to-be-completed,en:quantity-completed,en:product-name-completed,en:photos-to-be-validated,en:photos-uploaded</td>\n",
       "      <td>A compléter,Informations nutritionnelles à compléter,Ingrédients à compléter,Date limite à compléter,Caractéristiques à compléter,Catégories à compléter,Marques complétées,Emballage à compléter,Quantité complétée,Nom du produit complete,Photos à valider,Photos envoyées</td>\n",
       "      <td>NaN</td>\n",
       "      <td>NaN</td>\n",
       "      <td>NaN</td>\n",
       "      <td>NaN</td>\n",
       "      <td>NaN</td>\n",
       "      <td>NaN</td>\n",
       "      <td>NaN</td>\n",
       "      <td>NaN</td>\n",
       "      <td>NaN</td>\n",
       "      <td>NaN</td>\n",
       "      <td>NaN</td>\n",
       "      <td>NaN</td>\n",
       "      <td>NaN</td>\n",
       "      <td>NaN</td>\n",
       "      <td>NaN</td>\n",
       "      <td>NaN</td>\n",
       "      <td>NaN</td>\n",
       "      <td>NaN</td>\n",
       "      <td>NaN</td>\n",
       "      <td>NaN</td>\n",
       "      <td>NaN</td>\n",
       "      <td>NaN</td>\n",
       "      <td>NaN</td>\n",
       "      <td>NaN</td>\n",
       "      <td>NaN</td>\n",
       "      <td>NaN</td>\n",
       "      <td>NaN</td>\n",
       "      <td>NaN</td>\n",
       "      <td>NaN</td>\n",
       "      <td>NaN</td>\n",
       "      <td>NaN</td>\n",
       "      <td>NaN</td>\n",
       "      <td>NaN</td>\n",
       "      <td>NaN</td>\n",
       "      <td>NaN</td>\n",
       "      <td>NaN</td>\n",
       "      <td>NaN</td>\n",
       "      <td>NaN</td>\n",
       "      <td>NaN</td>\n",
       "      <td>NaN</td>\n",
       "      <td>NaN</td>\n",
       "      <td>NaN</td>\n",
       "      <td>NaN</td>\n",
       "      <td>NaN</td>\n",
       "      <td>NaN</td>\n",
       "      <td>NaN</td>\n",
       "      <td>NaN</td>\n",
       "      <td>NaN</td>\n",
       "      <td>NaN</td>\n",
       "      <td>NaN</td>\n",
       "      <td>NaN</td>\n",
       "      <td>NaN</td>\n",
       "      <td>NaN</td>\n",
       "      <td>NaN</td>\n",
       "      <td>NaN</td>\n",
       "      <td>NaN</td>\n",
       "      <td>NaN</td>\n",
       "      <td>NaN</td>\n",
       "      <td>NaN</td>\n",
       "      <td>NaN</td>\n",
       "      <td>NaN</td>\n",
       "      <td>NaN</td>\n",
       "      <td>NaN</td>\n",
       "      <td>NaN</td>\n",
       "      <td>NaN</td>\n",
       "      <td>NaN</td>\n",
       "      <td>NaN</td>\n",
       "      <td>NaN</td>\n",
       "      <td>NaN</td>\n",
       "      <td>NaN</td>\n",
       "      <td>NaN</td>\n",
       "      <td>NaN</td>\n",
       "      <td>NaN</td>\n",
       "      <td>NaN</td>\n",
       "      <td>NaN</td>\n",
       "      <td>NaN</td>\n",
       "      <td>NaN</td>\n",
       "      <td>NaN</td>\n",
       "      <td>NaN</td>\n",
       "      <td>NaN</td>\n",
       "      <td>NaN</td>\n",
       "      <td>NaN</td>\n",
       "      <td>NaN</td>\n",
       "      <td>NaN</td>\n",
       "      <td>NaN</td>\n",
       "      <td>NaN</td>\n",
       "      <td>NaN</td>\n",
       "      <td>NaN</td>\n",
       "      <td>NaN</td>\n",
       "      <td>NaN</td>\n",
       "      <td>NaN</td>\n",
       "      <td>NaN</td>\n",
       "      <td>NaN</td>\n",
       "      <td>NaN</td>\n",
       "      <td>NaN</td>\n",
       "      <td>NaN</td>\n",
       "      <td>NaN</td>\n",
       "      <td>NaN</td>\n",
       "      <td>NaN</td>\n",
       "      <td>NaN</td>\n",
       "      <td>NaN</td>\n",
       "      <td>NaN</td>\n",
       "      <td>NaN</td>\n",
       "    </tr>\n",
       "  </tbody>\n",
       "</table>\n",
       "</div>"
      ],
      "text/plain": [
       "   code  \\\n",
       "0  3087   \n",
       "\n",
       "                                                                                          url  \\\n",
       "0  http://world-fr.openfoodfacts.org/produit/0000000003087/farine-de-ble-noir-ferme-t-y-r-nao   \n",
       "\n",
       "                      creator   created_t      created_datetime  \\\n",
       "0  openfoodfacts-contributors  1474103866  2016-09-17T09:17:46Z   \n",
       "\n",
       "  last_modified_t last_modified_datetime        product_name generic_name  \\\n",
       "0      1474103893   2016-09-17T09:18:13Z  Farine de blé noir          NaN   \n",
       "\n",
       "  quantity packaging packaging_tags           brands      brands_tags  \\\n",
       "0      1kg       NaN            NaN  Ferme t'y R'nao  ferme-t-y-r-nao   \n",
       "\n",
       "  categories categories_tags categories_fr origins origins_tags  \\\n",
       "0        NaN             NaN           NaN     NaN          NaN   \n",
       "\n",
       "  manufacturing_places manufacturing_places_tags labels labels_tags labels_fr  \\\n",
       "0                  NaN                       NaN    NaN         NaN       NaN   \n",
       "\n",
       "  emb_codes emb_codes_tags first_packaging_code_geo cities cities_tags  \\\n",
       "0       NaN            NaN                      NaN    NaN         NaN   \n",
       "\n",
       "  purchase_places stores countries countries_tags countries_fr  \\\n",
       "0             NaN    NaN     en:FR      en:france       France   \n",
       "\n",
       "  ingredients_text allergens allergens_fr traces traces_tags traces_fr  \\\n",
       "0              NaN       NaN          NaN    NaN         NaN       NaN   \n",
       "\n",
       "  serving_size  no_nutriments  additives_n additives additives_tags  \\\n",
       "0          NaN            NaN          NaN       NaN            NaN   \n",
       "\n",
       "  additives_fr  ingredients_from_palm_oil_n  ingredients_from_palm_oil  \\\n",
       "0          NaN                          NaN                        NaN   \n",
       "\n",
       "  ingredients_from_palm_oil_tags  ingredients_that_may_be_from_palm_oil_n  \\\n",
       "0                            NaN                                      NaN   \n",
       "\n",
       "   ingredients_that_may_be_from_palm_oil  \\\n",
       "0                                    NaN   \n",
       "\n",
       "  ingredients_that_may_be_from_palm_oil_tags  nutrition_grade_uk  \\\n",
       "0                                        NaN                 NaN   \n",
       "\n",
       "  nutrition_grade_fr pnns_groups_1 pnns_groups_2  \\\n",
       "0                NaN           NaN           NaN   \n",
       "\n",
       "                                                                                                                                                                                                                                                                                                                                              states  \\\n",
       "0  en:to-be-completed, en:nutrition-facts-to-be-completed, en:ingredients-to-be-completed, en:expiration-date-to-be-completed, en:characteristics-to-be-completed, en:categories-to-be-completed, en:brands-completed, en:packaging-to-be-completed, en:quantity-completed, en:product-name-completed, en:photos-to-be-validated, en:photos-uploaded   \n",
       "\n",
       "                                                                                                                                                                                                                                                                                                                              states_tags  \\\n",
       "0  en:to-be-completed,en:nutrition-facts-to-be-completed,en:ingredients-to-be-completed,en:expiration-date-to-be-completed,en:characteristics-to-be-completed,en:categories-to-be-completed,en:brands-completed,en:packaging-to-be-completed,en:quantity-completed,en:product-name-completed,en:photos-to-be-validated,en:photos-uploaded   \n",
       "\n",
       "                                                                                                                                                                                                                                                                       states_fr  \\\n",
       "0  A compléter,Informations nutritionnelles à compléter,Ingrédients à compléter,Date limite à compléter,Caractéristiques à compléter,Catégories à compléter,Marques complétées,Emballage à compléter,Quantité complétée,Nom du produit complete,Photos à valider,Photos envoyées   \n",
       "\n",
       "  main_category main_category_fr image_url image_small_url  energy_100g  \\\n",
       "0           NaN              NaN       NaN             NaN          NaN   \n",
       "\n",
       "   energy-from-fat_100g  fat_100g  saturated-fat_100g  butyric-acid_100g  \\\n",
       "0                   NaN       NaN                 NaN                NaN   \n",
       "\n",
       "   caproic-acid_100g  caprylic-acid_100g  capric-acid_100g  lauric-acid_100g  \\\n",
       "0                NaN                 NaN               NaN               NaN   \n",
       "\n",
       "   myristic-acid_100g  palmitic-acid_100g  stearic-acid_100g  \\\n",
       "0                 NaN                 NaN                NaN   \n",
       "\n",
       "   arachidic-acid_100g  behenic-acid_100g  lignoceric-acid_100g  \\\n",
       "0                  NaN                NaN                   NaN   \n",
       "\n",
       "   cerotic-acid_100g  montanic-acid_100g  melissic-acid_100g  \\\n",
       "0                NaN                 NaN                 NaN   \n",
       "\n",
       "   monounsaturated-fat_100g  polyunsaturated-fat_100g  omega-3-fat_100g  \\\n",
       "0                       NaN                       NaN               NaN   \n",
       "\n",
       "   alpha-linolenic-acid_100g  eicosapentaenoic-acid_100g  \\\n",
       "0                        NaN                         NaN   \n",
       "\n",
       "   docosahexaenoic-acid_100g  omega-6-fat_100g  linoleic-acid_100g  \\\n",
       "0                        NaN               NaN                 NaN   \n",
       "\n",
       "   arachidonic-acid_100g  gamma-linolenic-acid_100g  \\\n",
       "0                    NaN                        NaN   \n",
       "\n",
       "   dihomo-gamma-linolenic-acid_100g  omega-9-fat_100g  oleic-acid_100g  \\\n",
       "0                               NaN               NaN              NaN   \n",
       "\n",
       "   elaidic-acid_100g  gondoic-acid_100g  mead-acid_100g  erucic-acid_100g  \\\n",
       "0                NaN                NaN             NaN               NaN   \n",
       "\n",
       "   nervonic-acid_100g  trans-fat_100g  cholesterol_100g  carbohydrates_100g  \\\n",
       "0                 NaN             NaN               NaN                 NaN   \n",
       "\n",
       "   sugars_100g  sucrose_100g  glucose_100g  fructose_100g  lactose_100g  \\\n",
       "0          NaN           NaN           NaN            NaN           NaN   \n",
       "\n",
       "   maltose_100g  maltodextrins_100g  starch_100g  polyols_100g  fiber_100g  \\\n",
       "0           NaN                 NaN          NaN           NaN         NaN   \n",
       "\n",
       "   proteins_100g  casein_100g  serum-proteins_100g  nucleotides_100g  \\\n",
       "0            NaN          NaN                  NaN               NaN   \n",
       "\n",
       "   salt_100g  sodium_100g  alcohol_100g  vitamin-a_100g  beta-carotene_100g  \\\n",
       "0        NaN          NaN           NaN             NaN                 NaN   \n",
       "\n",
       "   vitamin-d_100g  vitamin-e_100g  vitamin-k_100g  vitamin-c_100g  \\\n",
       "0             NaN             NaN             NaN             NaN   \n",
       "\n",
       "   vitamin-b1_100g  vitamin-b2_100g  vitamin-pp_100g  vitamin-b6_100g  \\\n",
       "0              NaN              NaN              NaN              NaN   \n",
       "\n",
       "   vitamin-b9_100g  folates_100g  vitamin-b12_100g  biotin_100g  \\\n",
       "0              NaN           NaN               NaN          NaN   \n",
       "\n",
       "   pantothenic-acid_100g  silica_100g  bicarbonate_100g  potassium_100g  \\\n",
       "0                    NaN          NaN               NaN             NaN   \n",
       "\n",
       "   chloride_100g  calcium_100g  phosphorus_100g  iron_100g  magnesium_100g  \\\n",
       "0            NaN           NaN              NaN        NaN             NaN   \n",
       "\n",
       "   zinc_100g  copper_100g  manganese_100g  fluoride_100g  selenium_100g  \\\n",
       "0        NaN          NaN             NaN            NaN            NaN   \n",
       "\n",
       "   chromium_100g  molybdenum_100g  iodine_100g  caffeine_100g  taurine_100g  \\\n",
       "0            NaN              NaN          NaN            NaN           NaN   \n",
       "\n",
       "   ph_100g  fruits-vegetables-nuts_100g  collagen-meat-protein-ratio_100g  \\\n",
       "0      NaN                          NaN                               NaN   \n",
       "\n",
       "   cocoa_100g  chlorophyl_100g  carbon-footprint_100g  \\\n",
       "0         NaN              NaN                    NaN   \n",
       "\n",
       "   nutrition-score-fr_100g  nutrition-score-uk_100g  glycemic-index_100g  \\\n",
       "0                      NaN                      NaN                  NaN   \n",
       "\n",
       "   water-hardness_100g  \n",
       "0                  NaN  "
      ]
     },
     "execution_count": 4,
     "metadata": {},
     "output_type": "execute_result"
    }
   ],
   "source": [
    "OFFproducts.head(1)"
   ]
  },
  {
   "cell_type": "code",
   "execution_count": null,
   "id": "2c851e30",
   "metadata": {},
   "outputs": [
    {
     "name": "stdout",
     "output_type": "stream",
     "text": [
      "<class 'pandas.core.frame.DataFrame'>\n",
      "RangeIndex: 320772 entries, 0 to 320771\n",
      "Columns: 162 entries, code to water-hardness_100g\n",
      "dtypes: float64(106), object(56)\n",
      "memory usage: 396.5+ MB\n"
     ]
    }
   ],
   "source": [
    "# on garde seulement les variables remplies à plus de 60%, je prends pour base le fait que je veux le nutrition score qui est à 68\n",
    "OFFproducts.info()\n",
    "remplOFFp = round(100-(OFFproducts.isnull().sum()/len(OFFproducts)*100),2)\n",
    "print(remplOFFp)\n",
    "listgarder = remplOFFp[remplOFFp>=60].index\n",
    "#je duplique mes données et je ne garde que les variables remplies à plus de 60%\n",
    "data = OFFproducts[listgarder]\n",
    "data.info()\n"
   ]
  },
  {
   "cell_type": "code",
   "execution_count": null,
   "id": "d6cf8fa5",
   "metadata": {},
   "outputs": [],
   "source": [
    "sns.set_style('darkgrid')\n",
    "sns.set_palette('Set2')\n",
    "remplOFFp.sort_values(inplace=True)\n",
    "plt.figure(figsize=(6,27))\n",
    "plt.title('Taux de remplissage des variables')\n",
    "remplOFFp.plot(kind='barh')\n",
    "plt.show()"
   ]
  },
  {
   "cell_type": "markdown",
   "id": "6e1628aa",
   "metadata": {},
   "source": [
    "### Est-ce que les données sont + ou - à jour ?"
   ]
  },
  {
   "cell_type": "code",
   "execution_count": null,
   "id": "4e82f10e",
   "metadata": {},
   "outputs": [],
   "source": [
    "# je m'assure du format\n",
    "data = data.dropna(subset=['code'])\n",
    "data['last_modified_datetime']= pd.to_datetime(data['last_modified_datetime'],errors = 'ignore')\n",
    "data['last_modified_year']=data['last_modified_datetime'].dt.year\n",
    "data['last_modified_year'].value_counts().plot(kind='bar')"
   ]
  },
  {
   "cell_type": "markdown",
   "id": "c37c596d",
   "metadata": {},
   "source": [
    "### Quels indicateurs va-t-on garder ?\n",
    "Je choisis de ne garder qu'une quinzaine d'indicateurs\n",
    "\n",
    "**Les indicateurs obligatoires : \n",
    "\n",
    "1) 'code' : car c'est la clé du produit\n",
    "\n",
    "2) 'url' : indispendable pour trouver les infos sur le produit\n",
    "\n",
    "3) 'product_name' : indispensable \n",
    "\n",
    "4) 'brands'\n",
    "\n",
    "**=> Sur la partie emballage pas assez de données donc j'écarte cette idée\n",
    "\n",
    "C'est une application FR donc je vais devoir quand même inscrire si oui ou non les **produits sont disponibles en France**, il faudrait qu'on puisse scanner les produits de l'étranger mais qu'on ne puisse pas recevoir en résultat un produit indisponible en France\n",
    "\n",
    "5) 6) 7) 'countries', 'countries_tags', 'countries_fr'  (on en enlevera à la fin)\n",
    "\n",
    "\n",
    "**Sur la partie ingrédients au cas ou je veux donner des alternatives végétales ?**\n",
    "\n",
    "8) ingredients_text\n",
    "\n",
    "9) 10) 'additives_n', 'additives'  : pour la présence d'additifs (pas bon pour la santé)\n",
    "\n",
    "**Composition calories** etc : je vais me référer à ce que l'on trouve en mention obligatoire sur les paquets :\n",
    "\n",
    "11) 12) 13) 14) 15) 16) 17) 18) 19) 'energy_100g', 'fat_100g',\n",
    "       'saturated-fat_100g', 'carbohydrates_100g', 'sugars_100g', 'fiber_100g',\n",
    "       'proteins_100g', 'salt_100g', 'sodium_100g'\n",
    "\n",
    "**La base de ce que je veux produire pour l'application avec la meilleure alternative**\n",
    "\n",
    " 20) 21) 'nutrition-score-fr_100g',\n",
    "        'nutrition_grade_fr'\n",
    "       \n",
    "       \n",
    "**Et j'ajoute** 'pnns_groups_1', 'pnns_groups_2',  'main_category_fr' même si elles sont très peur remplies car cela peut être utile pour l'analyse...."
   ]
  },
  {
   "cell_type": "code",
   "execution_count": null,
   "id": "5ad9c1c0",
   "metadata": {},
   "outputs": [],
   "source": [
    "#liste des indicateurs que l'on garde avant traitement\n",
    "listgarder"
   ]
  },
  {
   "cell_type": "code",
   "execution_count": null,
   "id": "9c3a155e",
   "metadata": {},
   "outputs": [],
   "source": [
    "# création de la liste des variables que je vais vraiment garder après réflexion :\n",
    "list_var = ['code','url' ,'product_name' ,'brands', \n",
    "                  'countries', 'countries_tags', 'countries_fr',\n",
    "                  'ingredients_text','additives_n', 'additives',\n",
    "                   'energy_100g', 'fat_100g','saturated-fat_100g', 'carbohydrates_100g', \n",
    "                  'sugars_100g', 'fiber_100g','proteins_100g', 'salt_100g', 'sodium_100g',\n",
    "                  'nutrition-score-fr_100g','nutrition_grade_fr',\n",
    "                  'pnns_groups_1', 'pnns_groups_2',  'main_category_fr']\n",
    "df = OFFproducts[list_var]\n",
    "                  "
   ]
  },
  {
   "cell_type": "code",
   "execution_count": null,
   "id": "1126c58b",
   "metadata": {},
   "outputs": [],
   "source": [
    "df.head(1)"
   ]
  },
  {
   "cell_type": "markdown",
   "id": "0e14c52b",
   "metadata": {},
   "source": [
    "# <a name=\"C3\">Nettoyage</a>\n",
    "\n",
    "<a href=\"#C0\">SOMMAIRE</a>\n",
    "\n",
    "## <a name=\"C31\">On enlève les produits avec pas assez d'info</a>"
   ]
  },
  {
   "cell_type": "code",
   "execution_count": null,
   "id": "7f119b0e",
   "metadata": {},
   "outputs": [],
   "source": [
    "#je remplace dans tout mon df les valeurs vides par NaN\n",
    "df.replace('',np.nan,inplace=True)"
   ]
  },
  {
   "cell_type": "code",
   "execution_count": null,
   "id": "e7158a59",
   "metadata": {},
   "outputs": [],
   "source": [
    "print('Taux de remplissage des variables sélectionnées')\n",
    "print(100-(df.isnull().sum()/len(df)*100))"
   ]
  },
  {
   "cell_type": "code",
   "execution_count": null,
   "id": "8af3785a",
   "metadata": {},
   "outputs": [],
   "source": [
    "#affichage des valeurs nulles pour la var code\n",
    "display(df[df['code'].isnull()])\n",
    "#on dirait que ce sont des catégories de types de yahourt. Pas utile pour nous nous droppons donc les NaN pour le Code\n",
    "df = df.dropna(subset=['code'])\n"
   ]
  },
  {
   "cell_type": "code",
   "execution_count": null,
   "id": "8b7ac11e",
   "metadata": {},
   "outputs": [],
   "source": [
    "#affichage des valeurs nulles pour la var product_name\n",
    "display(df[df['product_name'].isnull()])\n",
    "dfpnn = df[df['product_name'].isnull()]\n",
    "#Ce sont des informations vraiemnt incomplètes à première vue... Affichons le taux de remplissage des autres valeurs\n",
    "# au sein de ce dataframe \n",
    "print('taux de remplissage quand le produit_name est vide')\n",
    "print(100-(dfpnn.isnull().sum()/len(dfpnn)*100))\n",
    "print('taux de remplissage quand le produit_name est vide par rapport aux taux de remplissage du dataset')\n",
    "print((100-(dfpnn.isnull().sum()/len(dfpnn)*100))/(100-(df.isnull().sum()/len(df)*100))*100)\n",
    "print('nombre de valeurs manquantes :', len(dfpnn))\n",
    "# comme c'est très peu rempli et qu'on a peu d'info même pas le nom du produit je décide de supprimer ces lignes\n",
    "df = df.dropna(subset=['product_name'])"
   ]
  },
  {
   "cell_type": "code",
   "execution_count": null,
   "id": "5440b64f",
   "metadata": {},
   "outputs": [],
   "source": [
    "len(df[df['brands'].isnull()])\n",
    "# 13k lignes ça paraît compliqué de les remplir à la main mais on remarque des lignes test ...\n",
    "display(df[df['product_name'].str.contains('Test')])\n",
    "# on créer la liste des noms des produits test\n",
    "test=['Test','Test nf','Pierretest TestTestTestTestTestTTestTestTestTestTestTestTesttTestTestTestTestTestTestTestTestTestTestTestTestTestTesttTestTestTestTestTestTestTestTestTestTestTestTestTestTest',\n",
    "    'Test product','Test_edition','Test NF App']\n",
    "for i in test :\n",
    "    df.drop(df[df['product_name']==i].index, inplace=True)\n"
   ]
  },
  {
   "cell_type": "code",
   "execution_count": null,
   "id": "f4c34e17",
   "metadata": {},
   "outputs": [],
   "source": [
    "print(len(df))\n",
    "print('_')\n",
    "print('Taux de remplissage des variables sélectionnées')\n",
    "print(100-(df.isnull().sum()/len(df)*100))"
   ]
  },
  {
   "cell_type": "markdown",
   "id": "eb7e49ae",
   "metadata": {},
   "source": []
  },
  {
   "cell_type": "code",
   "execution_count": null,
   "id": "1718a494",
   "metadata": {},
   "outputs": [],
   "source": [
    "list(df)"
   ]
  },
  {
   "cell_type": "code",
   "execution_count": null,
   "id": "28883c60",
   "metadata": {},
   "outputs": [],
   "source": [
    "#j'enlève les lignes ou à partir des ingrédients il n'y a auncune donnée\n",
    "a=['ingredients_text',\n",
    " 'additives_n',\n",
    " 'additives',\n",
    " 'energy_100g',\n",
    " 'fat_100g',\n",
    " 'saturated-fat_100g',\n",
    " 'carbohydrates_100g',\n",
    " 'sugars_100g',\n",
    " 'fiber_100g',\n",
    " 'proteins_100g',\n",
    " 'salt_100g',\n",
    " 'sodium_100g',\n",
    " 'nutrition-score-fr_100g',\n",
    " 'pnns_groups_1',\n",
    " 'pnns_groups_2',\n",
    " 'main_category_fr']\n",
    "print(a)\n",
    "print('nb de lignes sans données ci-dessus:',len(df)-len(df.dropna(subset=a,how='all')))\n",
    "print('cela représente en % :',(len(df)-len(df.dropna(subset=a,how='all')))/len(df)*100)\n",
    "df=df.dropna(subset=a,how='all')\n"
   ]
  },
  {
   "cell_type": "markdown",
   "id": "4d6d1ee7",
   "metadata": {},
   "source": [
    "## <a name=\"C32\">On traite les duplicates</a>\n",
    "<a href=\"#C0\">SOMMAIRE</a>"
   ]
  },
  {
   "cell_type": "code",
   "execution_count": null,
   "id": "88da7cb4",
   "metadata": {},
   "outputs": [],
   "source": [
    "#trouver les doublons sur toutes les var\n",
    "df[df.duplicated(keep=False)] #il n'y en a pas\n",
    "# sur un subset product_name\n",
    "duplicname = df[df.duplicated(subset='product_name',keep=False)]\n",
    "print('nombres de duplicates pour product_name :',len(duplicname))\n",
    "print('nombres de valeurs uniques pour les duplicates pour product_name :',len(duplicname['product_name'].unique()))\n",
    "# sur un subset product_name x brands\n",
    "duplicnamebrand = df[df.duplicated(subset=['product_name','brands'],keep=False)]\n",
    "print('nombres de duplicates pour product_name x brands:',len(duplicnamebrand))\n",
    "# sur un subset code\n",
    "dupliccode = df[df.duplicated(subset='code',keep=False)]\n",
    "print('nombres de duplicates pour code :',len(dupliccode))\n",
    "# sur un subset url\n",
    "duplicurl = df[df.duplicated(subset='url',keep=False)]\n",
    "print('nombres de duplicates pour url :',len(duplicurl))"
   ]
  },
  {
   "cell_type": "code",
   "execution_count": null,
   "id": "ec359df1",
   "metadata": {},
   "outputs": [],
   "source": [
    "#créer une colonne qui compte les valeurs nulles\n",
    "df['countisnull']=pd.isnull(df).sum(1)\n",
    "#je drop les duplicates sur la colonne code en gardant la ligne la plus remplie à chaque fois puis je supprime la colonne countisnull\n",
    "df= df.sort_values(['countisnull']).drop_duplicates(subset=['code'],keep='first').drop('countisnull',1)"
   ]
  },
  {
   "cell_type": "code",
   "execution_count": null,
   "id": "fba1bdf3",
   "metadata": {},
   "outputs": [],
   "source": [
    "len(df)"
   ]
  },
  {
   "cell_type": "code",
   "execution_count": null,
   "id": "7f6c7728",
   "metadata": {},
   "outputs": [],
   "source": [
    "print('Taux de remplissage des variables sélectionnées')\n",
    "print(100-(df.isnull().sum()/len(df)*100))"
   ]
  },
  {
   "cell_type": "markdown",
   "id": "f469ab6d",
   "metadata": {},
   "source": [
    "## <a name=\"C33\">On traite les valeurs aberrantes</a>\n",
    "<a href=\"#C0\">SOMMAIRE</a>"
   ]
  },
  {
   "cell_type": "code",
   "execution_count": null,
   "id": "9321cb58",
   "metadata": {},
   "outputs": [],
   "source": [
    "#valeurs aberrantes ? Détection d'outliers ? pour les variables quantitatives seulement\n",
    "df.describe()"
   ]
  },
  {
   "cell_type": "markdown",
   "id": "5d2a8dfb",
   "metadata": {},
   "source": [
    "Valeurs en grammes : 'fat_100g','saturated-fat_100g', 'carbohydrates_100g', 'sugars_100g', 'fiber_100g', 'proteins_100g',\n",
    "            'salt_100g', 'sodium_100g', 'nutrition-score-fr_100g', 'nutrition-score-uk_100g'\n",
    "\n",
    "autres valeurs : 'energy_100g' c'est en calories donc il faut un traitement différent.\n",
    "Après des recherches en ligne l'aliment le plus calorique c'est l'huile et cela fait 3765.6 kj, ainsi nous allons partir du principe qu'il est impossible d'avoir des valeurs supérieures à 4000."
   ]
  },
  {
   "cell_type": "code",
   "execution_count": null,
   "id": "61ec4140",
   "metadata": {},
   "outputs": [],
   "source": [
    "#'energy_100g'\n",
    "#on remplace les valeurs > 4000 par NaN\n",
    "print(len(df[df['energy_100g']>4000.0]))\n",
    "display(df[df['energy_100g']>4000.0])\n",
    "df.loc[(df['energy_100g']>4000),'energy_100g']=np.nan"
   ]
  },
  {
   "cell_type": "code",
   "execution_count": null,
   "id": "b8f50495",
   "metadata": {},
   "outputs": [],
   "source": [
    "# boucle pour remplacer les valeurs aberrantes \n",
    "\n",
    "for var in ['fat_100g','saturated-fat_100g', 'carbohydrates_100g', 'sugars_100g', 'fiber_100g', 'proteins_100g',\n",
    "            'salt_100g', 'sodium_100g', 'nutrition-score-fr_100g'] :\n",
    "    df.loc[abs(df[var])>100,var]=np.nan # on remplace par NaN les valeurs au delà de 100 et de -100\n",
    "    df.loc[(df[var]<0)&(abs(df[var])<100),var]=abs(df[(df[var]<0)&(abs(df[var])<100)][var]) #on remplace par la val absolue\n",
    "    #les valeurs négatives qui sont comprises entre 0 et -100"
   ]
  },
  {
   "cell_type": "code",
   "execution_count": null,
   "id": "c70e7d8c",
   "metadata": {},
   "outputs": [],
   "source": [
    "df.reset_index(drop=True,inplace=True)"
   ]
  },
  {
   "cell_type": "markdown",
   "id": "fa94c4bb",
   "metadata": {},
   "source": [
    "## <a name=\"C34\">On traite les valeurs manquantes</a>\n",
    "<a href=\"#C0\">SOMMAIRE</a>\n",
    "\n",
    "\n",
    "\n",
    "remplacer par médiane / moy de la colonne ou du pnn group\n",
    "iterate imputer par ex pour nutrition score\n",
    "knn imputer pour energy 100g\n",
    "\n",
    "#### On remplace les valeurs vides par la médiane du pnn group pour les valeurs en 100g"
   ]
  },
  {
   "cell_type": "code",
   "execution_count": null,
   "id": "282ea5ff",
   "metadata": {},
   "outputs": [],
   "source": [
    "print('pnns_group_1 :',df['pnns_groups_1'].unique())\n",
    "print('pnns_group_2 :',df['pnns_groups_2'].unique())\n",
    "# on remplace unknow par NaN\n",
    "#df.loc[df['pnns_groups_1']=='unknown','pnns_group_1']=np.nan\n",
    "#df.loc[df['pnns_groups_2']=='unknown','pnns_group_2']=np.nan\n",
    "df.replace(to_replace={\n",
    "             'pnns_groups_1':{'unknown':np.nan}, \n",
    "             'pnns_groups_2':{'unknown':np.nan},},inplace=True)"
   ]
  },
  {
   "cell_type": "code",
   "execution_count": null,
   "id": "3b53dac4",
   "metadata": {},
   "outputs": [],
   "source": [
    "#pré-traitement pour 'pnns_groups_1'\n",
    "tofind = ['salty-snacks','cereals-and-potatoes','fruits-and-vegetables','sugary-snacks']\n",
    "toreplace = ['Salty snacks','Cereals and potatoes','Fruits and vegetables','Sugary snacks']\n",
    "for x,y in zip(tofind,toreplace) :\n",
    "    df[\"pnns_groups_1\"]=df[\"pnns_groups_1\"].replace(x,y)\n"
   ]
  },
  {
   "cell_type": "code",
   "execution_count": null,
   "id": "e22121fc",
   "metadata": {},
   "outputs": [],
   "source": [
    "compoalim = ['fat_100g','saturated-fat_100g', 'carbohydrates_100g', 'sugars_100g', 'fiber_100g', 'proteins_100g',\n",
    "            'salt_100g', 'sodium_100g']\n",
    "print('% des valeurs NaN avec le pnn rempli sur la part totale des valeurs NaN pour chaque variable que je souhaite remplir')\n",
    "for var in compoalim :\n",
    "    print(var,round(len(df[(df[var].isnull())&(~(df['pnns_groups_1'].isnull()))])/len(df[(df[var].isnull())])*100,2),'%')\n",
    "    \n",
    "print(\"\\n nombre d'occurence de chaque catégorie du pnns_groups_2\")\n",
    "for categ in df['pnns_groups_2'].unique() :\n",
    "    dfcateg=df[df['pnns_groups_2']==categ]\n",
    "    print(categ,len(dfcateg))\n"
   ]
  },
  {
   "cell_type": "code",
   "execution_count": null,
   "id": "afb4b6e6",
   "metadata": {},
   "outputs": [],
   "source": [
    "print(len(df))\n",
    "print('_')\n",
    "print('Taux de remplissage des variables sélectionnées')\n",
    "print(100-(df.isnull().sum()/len(df)*100))"
   ]
  },
  {
   "cell_type": "code",
   "execution_count": null,
   "id": "198b3844",
   "metadata": {},
   "outputs": [],
   "source": [
    "# pour toutes les valeurs manquantes dans la composition alimentaire je choisis de remplacer dans un premier temps par \n",
    "#la médiane du groupe quand elle est disponible, autrement on met la moyenne\n",
    "for var in compoalim :\n",
    "    for categ in df['pnns_groups_2'].unique() :\n",
    "        df.loc[(df[var].isnull())&(df['pnns_groups_2']==categ),var]=df[df['pnns_groups_2']==categ][var].median()\n",
    "    df.loc[df[var].isnull(),var]=df[var].mean()"
   ]
  },
  {
   "cell_type": "code",
   "execution_count": null,
   "id": "6f936833",
   "metadata": {},
   "outputs": [],
   "source": [
    "print(len(df))\n",
    "print('_')\n",
    "print('Taux de remplissage des variables sélectionnées')\n",
    "print(100-(df.isnull().sum()/len(df)*100))"
   ]
  },
  {
   "cell_type": "markdown",
   "id": "5a3b9897",
   "metadata": {},
   "source": [
    "#### iterate imputer pour energy_100g"
   ]
  },
  {
   "cell_type": "code",
   "execution_count": null,
   "id": "203aee2a",
   "metadata": {},
   "outputs": [],
   "source": [
    "df.reset_index(drop=True)\n",
    "dftest=df[['code','energy_100g','fat_100g','saturated-fat_100g','carbohydrates_100g','sugars_100g','fiber_100g',\n",
    "          'proteins_100g','salt_100g','sodium_100g','code']]"
   ]
  },
  {
   "cell_type": "code",
   "execution_count": null,
   "id": "b28eded6",
   "metadata": {},
   "outputs": [],
   "source": [
    "dftest"
   ]
  },
  {
   "cell_type": "code",
   "execution_count": null,
   "id": "1f5ff3af",
   "metadata": {},
   "outputs": [],
   "source": [
    "# split into input and output elements\n",
    "dftestdata = dftest.values\n",
    "ix = [i for i in range(dftestdata.shape[1]) if i != 10]\n",
    "X, y = dftestdata[:, ix], dftestdata[:, 10]\n",
    "# print total missing\n",
    "print('Missing: %d' % sum(pd.isnull(X).flatten()))\n",
    "# define imputer\n",
    "imputer = IterativeImputer(min_value=0,max_value=4000)\n",
    "# fit on the dataset\n",
    "imputer.fit(X)\n",
    "# transform the dataset\n",
    "Xtrans = imputer.transform(X)\n",
    "# print total missing\n",
    "print('Missing: %d' % sum(pd.isnull(Xtrans).flatten()))"
   ]
  },
  {
   "cell_type": "code",
   "execution_count": null,
   "id": "c8479ff7",
   "metadata": {},
   "outputs": [],
   "source": [
    "dftestii = pd.DataFrame (Xtrans,columns=['code','energy_100g','fat_100g','saturated-fat_100g','carbohydrates_100g','sugars_100g','fiber_100g',\n",
    "          'proteins_100g','salt_100g','sodium_100g'])"
   ]
  },
  {
   "cell_type": "code",
   "execution_count": null,
   "id": "686f0872",
   "metadata": {},
   "outputs": [],
   "source": [
    "df.describe()"
   ]
  },
  {
   "cell_type": "code",
   "execution_count": null,
   "id": "b081b07c",
   "metadata": {},
   "outputs": [],
   "source": [
    "dftestii.describe()"
   ]
  },
  {
   "cell_type": "code",
   "execution_count": null,
   "id": "838cc054",
   "metadata": {},
   "outputs": [],
   "source": [
    "sns.histplot(data=df['energy_100g'],color='gray')\n",
    "sns.histplot(data=dftestii['energy_100g'],color='pink')\n",
    "plt.legend(['distribution originale', 'distribution après imputation'])\n",
    "plt.show()"
   ]
  },
  {
   "cell_type": "code",
   "execution_count": null,
   "id": "5ef47de3",
   "metadata": {},
   "outputs": [],
   "source": [
    "df['energy_100g']=dftestii['energy_100g']"
   ]
  },
  {
   "cell_type": "code",
   "execution_count": null,
   "id": "1c6a1143",
   "metadata": {},
   "outputs": [],
   "source": [
    "print(len(df))\n",
    "print('_')\n",
    "print('Taux de remplissage des variables sélectionnées')\n",
    "print(100-(df.isnull().sum()/len(df)*100))"
   ]
  },
  {
   "cell_type": "markdown",
   "id": "83ba149e",
   "metadata": {},
   "source": [
    "#### knn imputer pour nutrition-score-fr_100g"
   ]
  },
  {
   "cell_type": "code",
   "execution_count": null,
   "id": "0a333442",
   "metadata": {},
   "outputs": [],
   "source": [
    "df"
   ]
  },
  {
   "cell_type": "code",
   "execution_count": null,
   "id": "793086ce",
   "metadata": {},
   "outputs": [],
   "source": [
    "print(df['nutrition-score-fr_100g'].unique())"
   ]
  },
  {
   "cell_type": "code",
   "execution_count": null,
   "id": "ba1d1dd2",
   "metadata": {},
   "outputs": [],
   "source": [
    "df.reset_index(drop=True)\n",
    "dftest2=df[['energy_100g','fat_100g','sugars_100g','proteins_100g','salt_100g','nutrition-score-fr_100g']]\n",
    "imputer=KNNImputer(n_neighbors=1)\n",
    "# print total missing\n",
    "X=dftest2\n",
    "print('Missing: %d' % sum(pd.isnull(X).values.flatten()))\n",
    "Xtrans=imputer.fit_transform(X)\n",
    "print('Missing: %d' % sum(pd.isnull(Xtrans).flatten()))"
   ]
  },
  {
   "cell_type": "code",
   "execution_count": null,
   "id": "6539b550",
   "metadata": {},
   "outputs": [],
   "source": [
    "dftestknn = pd.DataFrame (Xtrans,columns=['energy_100g','fat_100g','sugars_100g','proteins_100g','salt_100g','nutrition-score-fr_100g'])\n",
    "dftestknn.describe()"
   ]
  },
  {
   "cell_type": "code",
   "execution_count": null,
   "id": "f9dec918",
   "metadata": {},
   "outputs": [],
   "source": [
    "sns.histplot(data=df['nutrition-score-fr_100g'],color='gray')\n",
    "sns.histplot(data=dftestknn['nutrition-score-fr_100g'],color='pink')\n",
    "plt.legend(['distribution originale', 'distribution après imputation'])\n",
    "plt.show()\n"
   ]
  },
  {
   "cell_type": "code",
   "execution_count": null,
   "id": "454bf452",
   "metadata": {},
   "outputs": [],
   "source": [
    "df['nutrition-score-fr_100g']=dftestknn['nutrition-score-fr_100g']\n",
    "print(len(df))\n",
    "print('_')\n",
    "print('Taux de remplissage des variables sélectionnées')\n",
    "print(100-(df.isnull().sum()/len(df)*100))"
   ]
  },
  {
   "cell_type": "markdown",
   "id": "0a0735db",
   "metadata": {},
   "source": [
    "### application au nutrigrade_fr"
   ]
  },
  {
   "cell_type": "code",
   "execution_count": null,
   "id": "8f09c37a",
   "metadata": {},
   "outputs": [],
   "source": [
    "df['nutrition_grade_fr'].unique()"
   ]
  },
  {
   "cell_type": "code",
   "execution_count": null,
   "id": "e11501e3",
   "metadata": {},
   "outputs": [],
   "source": [
    "#mapping the nutrition_grade_fr values\n",
    "dftest3=df[['nutrition-score-fr_100g','nutrition_grade_fr']]\n",
    "dftest3['nutrition_grade_map']=dftest3.nutrition_grade_fr.map({'a':1,'b':2,'c':3,'d':4,'e':5})\n",
    "dftest3.drop('nutrition_grade_fr',axis=1,inplace=True)\n",
    "dftest3"
   ]
  },
  {
   "cell_type": "code",
   "execution_count": null,
   "id": "1e3e88f3",
   "metadata": {},
   "outputs": [],
   "source": [
    "imputer=KNNImputer(n_neighbors=1)\n",
    "X=dftest3\n",
    "print('Missing: %d' % sum(pd.isnull(X).values.flatten()))\n",
    "Xtrans=imputer.fit_transform(X)\n",
    "print('Missing: %d' % sum(pd.isnull(Xtrans).flatten()))"
   ]
  },
  {
   "cell_type": "code",
   "execution_count": null,
   "id": "f4294cc4",
   "metadata": {},
   "outputs": [],
   "source": [
    "dftestknn2 = pd.DataFrame (Xtrans,columns=['nutrition-score-fr_100g','nutrition_grade_map'])"
   ]
  },
  {
   "cell_type": "code",
   "execution_count": null,
   "id": "3ef31f2a",
   "metadata": {},
   "outputs": [],
   "source": [
    "dftestknn2"
   ]
  },
  {
   "cell_type": "code",
   "execution_count": null,
   "id": "08a0a0bb",
   "metadata": {},
   "outputs": [],
   "source": [
    "sns.histplot(data=dftest3['nutrition_grade_map'],color='gray')\n",
    "sns.histplot(data=dftestknn2['nutrition_grade_map'],color='pink')\n",
    "plt.legend(['distribution originale', 'distribution après imputation'])\n",
    "plt.show()"
   ]
  },
  {
   "cell_type": "code",
   "execution_count": null,
   "id": "4b1ac2f0",
   "metadata": {},
   "outputs": [],
   "source": [
    "#mapping the nutrition_grade_fr values, dans l'autre sens\n",
    "dftestknn2['nutrition_grade_fr']=dftestknn2.nutrition_grade_map.map({1:'a',2:'b',3:'c',4:'d',5:'e'})\n",
    "df['nutrition_grade_fr']=dftestknn2['nutrition_grade_fr']"
   ]
  },
  {
   "cell_type": "code",
   "execution_count": null,
   "id": "c1ee9ac5",
   "metadata": {},
   "outputs": [],
   "source": [
    "print(len(df))\n",
    "print('_')\n",
    "print('Taux de remplissage des variables sélectionnées')\n",
    "print(100-(df.isnull().sum()/len(df)*100))"
   ]
  },
  {
   "cell_type": "code",
   "execution_count": null,
   "id": "6fcb4e75",
   "metadata": {},
   "outputs": [],
   "source": []
  },
  {
   "cell_type": "code",
   "execution_count": null,
   "id": "e18710e2",
   "metadata": {},
   "outputs": [],
   "source": []
  },
  {
   "cell_type": "code",
   "execution_count": null,
   "id": "7b1f58f3",
   "metadata": {},
   "outputs": [],
   "source": []
  },
  {
   "cell_type": "markdown",
   "id": "31207a6c",
   "metadata": {},
   "source": [
    "## SAUVEGARDE DU FICHIER POUR L'ANALYSE EXPLORATOIRE"
   ]
  },
  {
   "cell_type": "code",
   "execution_count": null,
   "id": "c434e30d",
   "metadata": {},
   "outputs": [],
   "source": [
    "df.to_csv('datapostnettoyagefood.csv', index=False)"
   ]
  },
  {
   "cell_type": "code",
   "execution_count": null,
   "id": "7efac0a7",
   "metadata": {},
   "outputs": [],
   "source": []
  }
 ],
 "metadata": {
  "kernelspec": {
   "display_name": "Python 3 (ipykernel)",
   "language": "python",
   "name": "python3"
  },
  "language_info": {
   "codemirror_mode": {
    "name": "ipython",
    "version": 3
   },
   "file_extension": ".py",
   "mimetype": "text/x-python",
   "name": "python",
   "nbconvert_exporter": "python",
   "pygments_lexer": "ipython3",
   "version": "3.9.13"
  }
 },
 "nbformat": 4,
 "nbformat_minor": 5
}
